{
 "cells": [
  {
   "cell_type": "code",
   "execution_count": 1,
   "metadata": {},
   "outputs": [],
   "source": [
    "import numpy as np\n",
    "import matplotlib.pyplot as plt\n",
    "import pandas as pd\n",
    "import seaborn as sns"
   ]
  },
  {
   "cell_type": "code",
   "execution_count": 2,
   "metadata": {},
   "outputs": [
    {
     "data": {
      "text/html": [
       "<div>\n",
       "<style scoped>\n",
       "    .dataframe tbody tr th:only-of-type {\n",
       "        vertical-align: middle;\n",
       "    }\n",
       "\n",
       "    .dataframe tbody tr th {\n",
       "        vertical-align: top;\n",
       "    }\n",
       "\n",
       "    .dataframe thead th {\n",
       "        text-align: right;\n",
       "    }\n",
       "</style>\n",
       "<table border=\"1\" class=\"dataframe\">\n",
       "  <thead>\n",
       "    <tr style=\"text-align: right;\">\n",
       "      <th></th>\n",
       "      <th>Unnamed: 0</th>\n",
       "      <th>Title</th>\n",
       "      <th>URL</th>\n",
       "      <th>Short Intro</th>\n",
       "      <th>Category</th>\n",
       "      <th>Sub-Category</th>\n",
       "      <th>Course Type</th>\n",
       "      <th>Language</th>\n",
       "      <th>Subtitle Languages</th>\n",
       "      <th>Skills</th>\n",
       "      <th>...</th>\n",
       "      <th>Course Short Intro</th>\n",
       "      <th>Weekly study</th>\n",
       "      <th>Premium course</th>\n",
       "      <th>What's include</th>\n",
       "      <th>Rank</th>\n",
       "      <th>Created by</th>\n",
       "      <th>Program</th>\n",
       "      <th>Number of ratings</th>\n",
       "      <th>Price</th>\n",
       "      <th>COURSE CATEGORIES</th>\n",
       "    </tr>\n",
       "  </thead>\n",
       "  <tbody>\n",
       "    <tr>\n",
       "      <th>0</th>\n",
       "      <td>0</td>\n",
       "      <td>Machine Learning Specialization</td>\n",
       "      <td>https://www.coursera.org/specializations/machi...</td>\n",
       "      <td>#BreakIntoAI with Machine Learning Specializat...</td>\n",
       "      <td>Data Science</td>\n",
       "      <td>Machine Learning</td>\n",
       "      <td>Specialization</td>\n",
       "      <td>English</td>\n",
       "      <td>Subtitles: English</td>\n",
       "      <td>Decision Trees, Artificial Neural Network, Log...</td>\n",
       "      <td>...</td>\n",
       "      <td>NaN</td>\n",
       "      <td>NaN</td>\n",
       "      <td>NaN</td>\n",
       "      <td>NaN</td>\n",
       "      <td>NaN</td>\n",
       "      <td>NaN</td>\n",
       "      <td>NaN</td>\n",
       "      <td>NaN</td>\n",
       "      <td>NaN</td>\n",
       "      <td>NaN</td>\n",
       "    </tr>\n",
       "    <tr>\n",
       "      <th>1</th>\n",
       "      <td>1</td>\n",
       "      <td>Introduction to Data Science Specialization</td>\n",
       "      <td>https://www.coursera.org/specializations/intro...</td>\n",
       "      <td>Launch your career in data science. Gain found...</td>\n",
       "      <td>Data Science</td>\n",
       "      <td>Data Analysis</td>\n",
       "      <td>Specialization</td>\n",
       "      <td>English</td>\n",
       "      <td>Subtitles: English, Arabic, French, Portuguese...</td>\n",
       "      <td>Data Science, Relational Database Management S...</td>\n",
       "      <td>...</td>\n",
       "      <td>NaN</td>\n",
       "      <td>NaN</td>\n",
       "      <td>NaN</td>\n",
       "      <td>NaN</td>\n",
       "      <td>NaN</td>\n",
       "      <td>NaN</td>\n",
       "      <td>NaN</td>\n",
       "      <td>NaN</td>\n",
       "      <td>NaN</td>\n",
       "      <td>NaN</td>\n",
       "    </tr>\n",
       "    <tr>\n",
       "      <th>2</th>\n",
       "      <td>2</td>\n",
       "      <td>Data Science Fundamentals with Python and SQL ...</td>\n",
       "      <td>https://www.coursera.org/specializations/data-...</td>\n",
       "      <td>Build the Foundation for your Data Science car...</td>\n",
       "      <td>Data Science</td>\n",
       "      <td>Data Analysis</td>\n",
       "      <td>Specialization</td>\n",
       "      <td>English</td>\n",
       "      <td>Subtitles: English, Arabic, French, Portuguese...</td>\n",
       "      <td>Data Science, Github, Python Programming, Jupy...</td>\n",
       "      <td>...</td>\n",
       "      <td>NaN</td>\n",
       "      <td>NaN</td>\n",
       "      <td>NaN</td>\n",
       "      <td>NaN</td>\n",
       "      <td>NaN</td>\n",
       "      <td>NaN</td>\n",
       "      <td>NaN</td>\n",
       "      <td>NaN</td>\n",
       "      <td>NaN</td>\n",
       "      <td>NaN</td>\n",
       "    </tr>\n",
       "    <tr>\n",
       "      <th>3</th>\n",
       "      <td>3</td>\n",
       "      <td>Key Technologies for Business Specialization</td>\n",
       "      <td>https://www.coursera.org/specializations/key-t...</td>\n",
       "      <td>Get Ahead with Key Business Technologies. Gain...</td>\n",
       "      <td>Business</td>\n",
       "      <td>Business Essentials</td>\n",
       "      <td>Specialization</td>\n",
       "      <td>English</td>\n",
       "      <td>Subtitles: English, Arabic, French, Portuguese...</td>\n",
       "      <td>Data Science, Artificial Intelligence (AI), Bu...</td>\n",
       "      <td>...</td>\n",
       "      <td>NaN</td>\n",
       "      <td>NaN</td>\n",
       "      <td>NaN</td>\n",
       "      <td>NaN</td>\n",
       "      <td>NaN</td>\n",
       "      <td>NaN</td>\n",
       "      <td>NaN</td>\n",
       "      <td>NaN</td>\n",
       "      <td>NaN</td>\n",
       "      <td>NaN</td>\n",
       "    </tr>\n",
       "    <tr>\n",
       "      <th>4</th>\n",
       "      <td>4</td>\n",
       "      <td>Deep Learning Specialization</td>\n",
       "      <td>https://www.coursera.org/specializations/deep-...</td>\n",
       "      <td>Become a Machine Learning expert. Master the f...</td>\n",
       "      <td>Data Science</td>\n",
       "      <td>Machine Learning</td>\n",
       "      <td>Specialization</td>\n",
       "      <td>English</td>\n",
       "      <td>Subtitles: English, Chinese (Traditional), Ara...</td>\n",
       "      <td>Artificial Neural Network, Convolutional Neura...</td>\n",
       "      <td>...</td>\n",
       "      <td>NaN</td>\n",
       "      <td>NaN</td>\n",
       "      <td>NaN</td>\n",
       "      <td>NaN</td>\n",
       "      <td>NaN</td>\n",
       "      <td>NaN</td>\n",
       "      <td>NaN</td>\n",
       "      <td>NaN</td>\n",
       "      <td>NaN</td>\n",
       "      <td>NaN</td>\n",
       "    </tr>\n",
       "  </tbody>\n",
       "</table>\n",
       "<p>5 rows × 45 columns</p>\n",
       "</div>"
      ],
      "text/plain": [
       "   Unnamed: 0                                              Title  \\\n",
       "0           0                    Machine Learning Specialization   \n",
       "1           1        Introduction to Data Science Specialization   \n",
       "2           2  Data Science Fundamentals with Python and SQL ...   \n",
       "3           3       Key Technologies for Business Specialization   \n",
       "4           4                       Deep Learning Specialization   \n",
       "\n",
       "                                                 URL  \\\n",
       "0  https://www.coursera.org/specializations/machi...   \n",
       "1  https://www.coursera.org/specializations/intro...   \n",
       "2  https://www.coursera.org/specializations/data-...   \n",
       "3  https://www.coursera.org/specializations/key-t...   \n",
       "4  https://www.coursera.org/specializations/deep-...   \n",
       "\n",
       "                                         Short Intro      Category  \\\n",
       "0  #BreakIntoAI with Machine Learning Specializat...  Data Science   \n",
       "1  Launch your career in data science. Gain found...  Data Science   \n",
       "2  Build the Foundation for your Data Science car...  Data Science   \n",
       "3  Get Ahead with Key Business Technologies. Gain...      Business   \n",
       "4  Become a Machine Learning expert. Master the f...  Data Science   \n",
       "\n",
       "          Sub-Category     Course Type Language  \\\n",
       "0     Machine Learning  Specialization  English   \n",
       "1        Data Analysis  Specialization  English   \n",
       "2        Data Analysis  Specialization  English   \n",
       "3  Business Essentials  Specialization  English   \n",
       "4     Machine Learning  Specialization  English   \n",
       "\n",
       "                                  Subtitle Languages  \\\n",
       "0                                 Subtitles: English   \n",
       "1  Subtitles: English, Arabic, French, Portuguese...   \n",
       "2  Subtitles: English, Arabic, French, Portuguese...   \n",
       "3  Subtitles: English, Arabic, French, Portuguese...   \n",
       "4  Subtitles: English, Chinese (Traditional), Ara...   \n",
       "\n",
       "                                              Skills  ... Course Short Intro  \\\n",
       "0  Decision Trees, Artificial Neural Network, Log...  ...                NaN   \n",
       "1  Data Science, Relational Database Management S...  ...                NaN   \n",
       "2  Data Science, Github, Python Programming, Jupy...  ...                NaN   \n",
       "3  Data Science, Artificial Intelligence (AI), Bu...  ...                NaN   \n",
       "4  Artificial Neural Network, Convolutional Neura...  ...                NaN   \n",
       "\n",
       "  Weekly study Premium course What's include Rank Created by Program  \\\n",
       "0          NaN            NaN            NaN  NaN        NaN     NaN   \n",
       "1          NaN            NaN            NaN  NaN        NaN     NaN   \n",
       "2          NaN            NaN            NaN  NaN        NaN     NaN   \n",
       "3          NaN            NaN            NaN  NaN        NaN     NaN   \n",
       "4          NaN            NaN            NaN  NaN        NaN     NaN   \n",
       "\n",
       "  Number of ratings Price  COURSE CATEGORIES  \n",
       "0               NaN   NaN                NaN  \n",
       "1               NaN   NaN                NaN  \n",
       "2               NaN   NaN                NaN  \n",
       "3               NaN   NaN                NaN  \n",
       "4               NaN   NaN                NaN  \n",
       "\n",
       "[5 rows x 45 columns]"
      ]
     },
     "execution_count": 2,
     "metadata": {},
     "output_type": "execute_result"
    }
   ],
   "source": [
    "# Load the data\n",
    "data = pd.read_csv('Online_Courses.csv')\n",
    "data.head()"
   ]
  },
  {
   "cell_type": "code",
   "execution_count": 3,
   "metadata": {},
   "outputs": [
    {
     "data": {
      "text/plain": [
       "Index(['Unnamed: 0', 'Title', 'URL', 'Short Intro', 'Category', 'Sub-Category',\n",
       "       'Course Type', 'Language', 'Subtitle Languages', 'Skills',\n",
       "       'Instructors', 'Rating', 'Number of viewers', 'Duration', 'Site',\n",
       "       'Program Type', 'Courses', 'Level', 'Number of Reviews',\n",
       "       'Unique Projects', 'Prequisites', 'What you learn', 'Related Programs',\n",
       "       'Monthly access', '6-Month access', '4-Month access', '3-Month access',\n",
       "       '5-Month access', '2-Month access', 'School', 'Topics related to CRM',\n",
       "       'ExpertTracks', 'FAQs', 'Course Title', 'Course URL',\n",
       "       'Course Short Intro', 'Weekly study', 'Premium course',\n",
       "       'What's include', 'Rank', 'Created by', 'Program', 'Number of ratings',\n",
       "       'Price', 'COURSE CATEGORIES'],\n",
       "      dtype='object')"
      ]
     },
     "execution_count": 3,
     "metadata": {},
     "output_type": "execute_result"
    }
   ],
   "source": [
    "data.columns"
   ]
  },
  {
   "cell_type": "code",
   "execution_count": 4,
   "metadata": {},
   "outputs": [],
   "source": [
    "# Drop columns\n",
    "data = data.drop(columns=['Unnamed: 0', 'URL', 'Subtitle Languages', 'Program Type',\n",
    "                           'Courses', 'Level', 'Number of Reviews', 'Unique Projects', 'Prequisites', \n",
    "                           'What you learn', 'Related Programs', 'Monthly access', '6-Month access', \n",
    "                           '4-Month access', '3-Month access', '5-Month access', '2-Month access', 'School',\n",
    "                           'Topics related to CRM', 'ExpertTracks', 'FAQs', 'Course Title', 'Course URL',\n",
    "                           'Course Short Intro', 'Weekly study', 'Premium course', \"What's include\", 'Rank',\n",
    "                           'Created by', 'Program', 'Number of ratings', 'Price', 'COURSE CATEGORIES'])"
   ]
  },
  {
   "cell_type": "code",
   "execution_count": 5,
   "metadata": {},
   "outputs": [
    {
     "data": {
      "text/html": [
       "<div>\n",
       "<style scoped>\n",
       "    .dataframe tbody tr th:only-of-type {\n",
       "        vertical-align: middle;\n",
       "    }\n",
       "\n",
       "    .dataframe tbody tr th {\n",
       "        vertical-align: top;\n",
       "    }\n",
       "\n",
       "    .dataframe thead th {\n",
       "        text-align: right;\n",
       "    }\n",
       "</style>\n",
       "<table border=\"1\" class=\"dataframe\">\n",
       "  <thead>\n",
       "    <tr style=\"text-align: right;\">\n",
       "      <th></th>\n",
       "      <th>Title</th>\n",
       "      <th>Short Intro</th>\n",
       "      <th>Category</th>\n",
       "      <th>Sub-Category</th>\n",
       "      <th>Course Type</th>\n",
       "      <th>Language</th>\n",
       "      <th>Skills</th>\n",
       "      <th>Instructors</th>\n",
       "      <th>Rating</th>\n",
       "      <th>Number of viewers</th>\n",
       "      <th>Duration</th>\n",
       "    </tr>\n",
       "  </thead>\n",
       "  <tbody>\n",
       "    <tr>\n",
       "      <th>0</th>\n",
       "      <td>Machine Learning Specialization</td>\n",
       "      <td>#BreakIntoAI with Machine Learning Specializat...</td>\n",
       "      <td>Data Science</td>\n",
       "      <td>Machine Learning</td>\n",
       "      <td>Specialization</td>\n",
       "      <td>English</td>\n",
       "      <td>Decision Trees, Artificial Neural Network, Log...</td>\n",
       "      <td>Andrew Ng ,Eddy Shyu ,Aarti Bagul ,Geoff Ladwig ,</td>\n",
       "      <td>4.9stars</td>\n",
       "      <td>10,438</td>\n",
       "      <td>Approximately 3 months to complete</td>\n",
       "    </tr>\n",
       "    <tr>\n",
       "      <th>1</th>\n",
       "      <td>Introduction to Data Science Specialization</td>\n",
       "      <td>Launch your career in data science. Gain found...</td>\n",
       "      <td>Data Science</td>\n",
       "      <td>Data Analysis</td>\n",
       "      <td>Specialization</td>\n",
       "      <td>English</td>\n",
       "      <td>Data Science, Relational Database Management S...</td>\n",
       "      <td>Rav Ahuja ,Alex Aklson ,Aije Egwaikhide ,Svetl...</td>\n",
       "      <td>4.7stars</td>\n",
       "      <td>11,927</td>\n",
       "      <td>Approximately 5 months to complete</td>\n",
       "    </tr>\n",
       "    <tr>\n",
       "      <th>2</th>\n",
       "      <td>Data Science Fundamentals with Python and SQL ...</td>\n",
       "      <td>Build the Foundation for your Data Science car...</td>\n",
       "      <td>Data Science</td>\n",
       "      <td>Data Analysis</td>\n",
       "      <td>Specialization</td>\n",
       "      <td>English</td>\n",
       "      <td>Data Science, Github, Python Programming, Jupy...</td>\n",
       "      <td>Aije Egwaikhide ,Svetlana Levitan ,Romeo Kienz...</td>\n",
       "      <td>4.6stars</td>\n",
       "      <td>2,295</td>\n",
       "      <td>Approximately 7 months to complete</td>\n",
       "    </tr>\n",
       "    <tr>\n",
       "      <th>3</th>\n",
       "      <td>Key Technologies for Business Specialization</td>\n",
       "      <td>Get Ahead with Key Business Technologies. Gain...</td>\n",
       "      <td>Business</td>\n",
       "      <td>Business Essentials</td>\n",
       "      <td>Specialization</td>\n",
       "      <td>English</td>\n",
       "      <td>Data Science, Artificial Intelligence (AI), Bu...</td>\n",
       "      <td>Rav Ahuja ,Alex Aklson ,</td>\n",
       "      <td>4.7stars</td>\n",
       "      <td>1,232</td>\n",
       "      <td>Approximately 3 months to complete</td>\n",
       "    </tr>\n",
       "    <tr>\n",
       "      <th>4</th>\n",
       "      <td>Deep Learning Specialization</td>\n",
       "      <td>Become a Machine Learning expert. Master the f...</td>\n",
       "      <td>Data Science</td>\n",
       "      <td>Machine Learning</td>\n",
       "      <td>Specialization</td>\n",
       "      <td>English</td>\n",
       "      <td>Artificial Neural Network, Convolutional Neura...</td>\n",
       "      <td>Andrew Ng ,Kian Katanforoosh ,Younes Bensouda ...</td>\n",
       "      <td>4.9stars</td>\n",
       "      <td>129,253</td>\n",
       "      <td>Approximately 5 months to complete</td>\n",
       "    </tr>\n",
       "  </tbody>\n",
       "</table>\n",
       "</div>"
      ],
      "text/plain": [
       "                                               Title  \\\n",
       "0                    Machine Learning Specialization   \n",
       "1        Introduction to Data Science Specialization   \n",
       "2  Data Science Fundamentals with Python and SQL ...   \n",
       "3       Key Technologies for Business Specialization   \n",
       "4                       Deep Learning Specialization   \n",
       "\n",
       "                                         Short Intro      Category  \\\n",
       "0  #BreakIntoAI with Machine Learning Specializat...  Data Science   \n",
       "1  Launch your career in data science. Gain found...  Data Science   \n",
       "2  Build the Foundation for your Data Science car...  Data Science   \n",
       "3  Get Ahead with Key Business Technologies. Gain...      Business   \n",
       "4  Become a Machine Learning expert. Master the f...  Data Science   \n",
       "\n",
       "          Sub-Category     Course Type Language  \\\n",
       "0     Machine Learning  Specialization  English   \n",
       "1        Data Analysis  Specialization  English   \n",
       "2        Data Analysis  Specialization  English   \n",
       "3  Business Essentials  Specialization  English   \n",
       "4     Machine Learning  Specialization  English   \n",
       "\n",
       "                                              Skills  \\\n",
       "0  Decision Trees, Artificial Neural Network, Log...   \n",
       "1  Data Science, Relational Database Management S...   \n",
       "2  Data Science, Github, Python Programming, Jupy...   \n",
       "3  Data Science, Artificial Intelligence (AI), Bu...   \n",
       "4  Artificial Neural Network, Convolutional Neura...   \n",
       "\n",
       "                                         Instructors    Rating  \\\n",
       "0  Andrew Ng ,Eddy Shyu ,Aarti Bagul ,Geoff Ladwig ,  4.9stars   \n",
       "1  Rav Ahuja ,Alex Aklson ,Aije Egwaikhide ,Svetl...  4.7stars   \n",
       "2  Aije Egwaikhide ,Svetlana Levitan ,Romeo Kienz...  4.6stars   \n",
       "3                           Rav Ahuja ,Alex Aklson ,  4.7stars   \n",
       "4  Andrew Ng ,Kian Katanforoosh ,Younes Bensouda ...  4.9stars   \n",
       "\n",
       "  Number of viewers                            Duration  \n",
       "0           10,438   Approximately 3 months to complete  \n",
       "1           11,927   Approximately 5 months to complete  \n",
       "2            2,295   Approximately 7 months to complete  \n",
       "3            1,232   Approximately 3 months to complete  \n",
       "4          129,253   Approximately 5 months to complete  "
      ]
     },
     "execution_count": 5,
     "metadata": {},
     "output_type": "execute_result"
    }
   ],
   "source": [
    "# filter by site 'Coursera'\n",
    "data = data[data['Site']=='Coursera']\n",
    "data = data.drop(columns='Site')\n",
    "data.head()"
   ]
  },
  {
   "cell_type": "code",
   "execution_count": 6,
   "metadata": {},
   "outputs": [
    {
     "data": {
      "text/plain": [
       "Index(['Title', 'Short Intro', 'Category', 'Sub-Category', 'Course Type',\n",
       "       'Language', 'Skills', 'Instructors', 'Rating', 'Number of viewers',\n",
       "       'Duration'],\n",
       "      dtype='object')"
      ]
     },
     "execution_count": 6,
     "metadata": {},
     "output_type": "execute_result"
    }
   ],
   "source": [
    "data.columns"
   ]
  },
  {
   "cell_type": "code",
   "execution_count": 7,
   "metadata": {},
   "outputs": [
    {
     "name": "stdout",
     "output_type": "stream",
     "text": [
      "<class 'pandas.core.frame.DataFrame'>\n",
      "Index: 2819 entries, 0 to 2818\n",
      "Data columns (total 11 columns):\n",
      " #   Column             Non-Null Count  Dtype \n",
      "---  ------             --------------  ----- \n",
      " 0   Title              2819 non-null   object\n",
      " 1   Short Intro        2775 non-null   object\n",
      " 2   Category           2819 non-null   object\n",
      " 3   Sub-Category       2819 non-null   object\n",
      " 4   Course Type        2819 non-null   object\n",
      " 5   Language           2819 non-null   object\n",
      " 6   Skills             1998 non-null   object\n",
      " 7   Instructors        2808 non-null   object\n",
      " 8   Rating             2695 non-null   object\n",
      " 9   Number of viewers  2695 non-null   object\n",
      " 10  Duration           2819 non-null   object\n",
      "dtypes: object(11)\n",
      "memory usage: 264.3+ KB\n"
     ]
    }
   ],
   "source": [
    "data.info()"
   ]
  },
  {
   "cell_type": "code",
   "execution_count": 8,
   "metadata": {},
   "outputs": [
    {
     "data": {
      "text/plain": [
       "array(['Data Science', 'Business', 'Information Technology',\n",
       "       'Computer Science', 'Arts and Humanities', 'Language Learning',\n",
       "       'Personal Development', 'Social Sciences', 'Health',\n",
       "       'Physical Science and Engineering', 'Math and Logic', '计算机科学',\n",
       "       'Ciencia de Datos', 'Negocios', 'Ciencias de la Computación',\n",
       "       'Negócios', 'データサイエンス', 'Tecnologia da informação'], dtype=object)"
      ]
     },
     "execution_count": 8,
     "metadata": {},
     "output_type": "execute_result"
    }
   ],
   "source": [
    "# print unique Category\n",
    "data['Category'].unique()"
   ]
  },
  {
   "cell_type": "code",
   "execution_count": 9,
   "metadata": {},
   "outputs": [],
   "source": [
    "# Create a dictionary with the replacements\n",
    "replacings = {\n",
    "    '计算机科学': 'Computer Science',\n",
    "    'Ciencia de Datos': 'Data Science',\n",
    "    'Negocios': 'Business',\n",
    "    'Ciencias de la Computación': 'Computer Science',\n",
    "    'Negócios': 'Business',\n",
    "    'データサイエンス': 'Data Science',\n",
    "    'Tecnologia da informação': 'Computer Science'\n",
    "}\n",
    "# Replace the values\n",
    "for key, value in replacings.items():\n",
    "    data['Category'] = data['Category'].replace(key, value)"
   ]
  },
  {
   "cell_type": "code",
   "execution_count": 10,
   "metadata": {},
   "outputs": [
    {
     "data": {
      "text/plain": [
       "array(['Machine Learning', 'Data Analysis', 'Business Essentials',\n",
       "       'Data Management', 'Security', 'Software Development',\n",
       "       'Design and Product', 'Cloud Computing',\n",
       "       'Mobile and Web Development', 'Algorithms', 'Finance',\n",
       "       'Leadership and Management', 'Music and Art', 'Learning English',\n",
       "       'Entrepreneurship', 'Marketing', 'Business Strategy',\n",
       "       'Personal Development', 'Governance and Society',\n",
       "       'Healthcare Management', 'Networking', 'Education',\n",
       "       'Computer Security and Networks', 'Nutrition', 'Public Health',\n",
       "       'Probability and Statistics', 'Electrical Engineering',\n",
       "       'Basic Science', 'Patient Care', 'Health Informatics',\n",
       "       'Philosophy', 'Environmental Science and Sustainability',\n",
       "       'Math and Logic', 'Other Languages', 'Psychology',\n",
       "       'Mechanical Engineering', 'Physics and Astronomy', 'Law',\n",
       "       'Biology', 'Support and Operations', 'Research Methods', '移动和网络开发',\n",
       "       'Análisis de Datos', 'Liderazgo y Gestión', 'Diseño y Producto',\n",
       "       'データ分析', 'Operações e suporte', 'Research', 'Economics',\n",
       "       'Chemistry', 'History', 'Animal Health'], dtype=object)"
      ]
     },
     "execution_count": 10,
     "metadata": {},
     "output_type": "execute_result"
    }
   ],
   "source": [
    "# print unique Category\n",
    "data['Sub-Category'].unique()"
   ]
  },
  {
   "cell_type": "code",
   "execution_count": 11,
   "metadata": {},
   "outputs": [],
   "source": [
    "# Create a dictionary with the replacements\n",
    "replacings = {\n",
    "    '移动和网络开发': 'Mobile and Web Development',\n",
    "    'Análisis de Datos': 'Data Analysis',\n",
    "    'Liderazgo y Gestión': 'Leadership and Management',\n",
    "    'Diseño y Producto': 'Design and Product',\n",
    "    'データ分析': 'Data Analysis',\n",
    "    'Operações e suporte': 'Support and Operations'\n",
    "}\n",
    "# Replace the values\n",
    "for key, value in replacings.items():\n",
    "    data['Sub-Category'] = data['Sub-Category'].replace(key, value)\n"
   ]
  },
  {
   "cell_type": "code",
   "execution_count": 12,
   "metadata": {},
   "outputs": [
    {
     "data": {
      "text/plain": [
       "array(['4.9stars', '4.7stars', '4.6stars', '4.8stars', '4.5stars',\n",
       "       '4.4stars', '4.3stars', '4.2stars', '4.1stars', '3.9stars',\n",
       "       '3.7stars', '5.0stars', '4.0stars', nan, '4.8', '4.9', '4.6',\n",
       "       '4.7', '4.5', '5.0', '4.4', '3.7', '4.3', '3.3stars', '3.8stars',\n",
       "       '3.4stars', '3.6stars', '3.1stars', '3.5stars'], dtype=object)"
      ]
     },
     "execution_count": 12,
     "metadata": {},
     "output_type": "execute_result"
    }
   ],
   "source": [
    "# show unique Rating\n",
    "data['Rating'].unique()"
   ]
  },
  {
   "cell_type": "code",
   "execution_count": 13,
   "metadata": {},
   "outputs": [],
   "source": [
    "# remove stars from the rating\n",
    "data['Rating'] = data['Rating'].str.replace('stars', '')\n",
    "# convert to float\n",
    "data['Rating'] = data['Rating'].astype(float)"
   ]
  },
  {
   "cell_type": "code",
   "execution_count": 14,
   "metadata": {},
   "outputs": [
    {
     "data": {
      "text/plain": [
       "array(['10,438 ', '11,927 ', '2,295 ', ..., '723 ', '2,810 ', '4,261 '],\n",
       "      dtype=object)"
      ]
     },
     "execution_count": 14,
     "metadata": {},
     "output_type": "execute_result"
    }
   ],
   "source": [
    "# show unique 'Number of viewers'\n",
    "data['Number of viewers'].unique()"
   ]
  },
  {
   "cell_type": "code",
   "execution_count": 15,
   "metadata": {},
   "outputs": [],
   "source": [
    "# convert to integer, keeping NaN values\n",
    "data['Number of viewers'] = pd.to_numeric(data['Number of viewers'], errors='coerce', downcast='integer')"
   ]
  },
  {
   "cell_type": "code",
   "execution_count": 16,
   "metadata": {},
   "outputs": [
    {
     "data": {
      "text/plain": [
       "array(['Approximately 3 months to complete',\n",
       "       'Approximately 5 months to complete',\n",
       "       'Approximately 7 months to complete',\n",
       "       'Approximately 2 months to complete',\n",
       "       'Approximately 4 months to complete',\n",
       "       'Approximately 6 months to complete',\n",
       "       'Approximately 8 months to complete',\n",
       "       'Approximately 11 months to complete',\n",
       "       'Approximately 10 months to complete',\n",
       "       'Approximately 9 months to complete',\n",
       "       'Approximately 12 months to complete',\n",
       "       'Approximately 1 month to complete', '6 months at 10 hours a week',\n",
       "       '5 months at 3 hours a week', '4 months at 10 hours a week',\n",
       "       '3 months at 10 hours a week', '5 months at 10 hours a week',\n",
       "       '12 months at 10 hours a week', '6 months at 3 hours a week',\n",
       "       '7 months at 6 hours a week', '2 months at 10 hours a week',\n",
       "       '8 months at 3 hours a week', '7 months at 2 hours a week',\n",
       "       '4 months at 4 hours a week', '4 months at 5 hours a week',\n",
       "       '8 months at 6 hours a week', '8 months at 7 hours a week',\n",
       "       '6 months at 6 hours a week', '7 months at 3 hours a week',\n",
       "       '5 months at 4 hours a week', '12 months at 4 hours a week',\n",
       "       '4 months at 7 hours a week', '7 months at 5 hours a week',\n",
       "       '6 months at 2 hours a week', '6 months at 4 hours a week',\n",
       "       '2 months at 5 hours a week', '11 months at 1 hours a week',\n",
       "       '6 months at 1 hours a week', '6 months at 5 hours a week',\n",
       "       '9 months at 5 hours a week', '2 months at 4 hours a week',\n",
       "       '8 months at 5 hours a week', '10 months at 3 hours a week',\n",
       "       '13 months at 2 hours a week', '1 months at 2 hours a week',\n",
       "       'Flexible schedule', '1 months at 4 hours a week',\n",
       "       '6 months at 8 hours a week', 'Approx. 23 hours to complete',\n",
       "       'Approx. 14 hours to complete', 'Approx. 12 hours to complete',\n",
       "       'Approx. 11 hours to complete', 'Approx. 10 hours to complete',\n",
       "       'Approx. 13 hours to complete', 'Approx. 3 hours to complete',\n",
       "       'Approx. 48 hours to complete', 'Approx. 9 hours to complete',\n",
       "       'Approx. 40 hours to complete', 'Approx. 37 hours to complete',\n",
       "       'Approx. 15 hours to complete', 'Approx. 7 hours to complete',\n",
       "       'Approx. 2 hours to complete', 'Approx. 21 hours to complete',\n",
       "       'Approx. 8 hours to complete', 'Approx. 5 hours to complete',\n",
       "       'Approx. 20 hours to complete', 'Approx. 16 hours to complete',\n",
       "       'Approx. 19 hours to complete', 'Approx. 46 hours to complete',\n",
       "       'Approx. 32 hours to complete', 'Approx. 25 hours to complete',\n",
       "       'Approx. 44 hours to complete', 'Approx. 17 hours to complete',\n",
       "       'Approx. 6 hours to complete', 'Approx. 80 hours to complete',\n",
       "       'Approx. 22 hours to complete', 'Approx. 18 hours to complete',\n",
       "       'Approx. 34 hours to complete', 'Approx. 27 hours to complete',\n",
       "       'Approx. 28 hours to complete', 'Approx. 70 hours to complete',\n",
       "       'Approx. 75 hours to complete', 'Approx. 53 hours to complete',\n",
       "       'Approx. 29 hours to complete', 'Approx. 35 hours to complete',\n",
       "       'Approx. 31 hours to complete', 'Approx. 85 hours to complete',\n",
       "       'Approx. 30 hours to complete', 'Approx. 33 hours to complete',\n",
       "       'Approx. 24 hours to complete', 'Approx. 26 hours to complete',\n",
       "       'Approx. 4 hours to complete', 'Approx. 36 hours to complete',\n",
       "       'Approx. 71 hours to complete', 'Approx. 39 hours to complete',\n",
       "       'Approx. 57 hours to complete', 'Approx. 49 hours to complete',\n",
       "       'Approx. 58 hours to complete', 'Approx. 38 hours to complete',\n",
       "       'Approx. 43 hours to complete', 'Approx. 42 hours to complete',\n",
       "       'Approx. 93 hours to complete', 'Approx. 127 hours to complete',\n",
       "       'Approx. 62 hours to complete', 'Approx. 66 hours to complete',\n",
       "       '1 Hour', '2 hours', '2 horas', '30 Minutes', '1.5 hours',\n",
       "       '40 minutes', '1 hour', '1.5 hours ', '45 minutes',\n",
       "       'Approx. 55 hours to complete', 'Approx. 56 hours to complete',\n",
       "       'Approx. 52 hours to complete', 'Approx. 54 hours to complete',\n",
       "       'Approx. 1 hour to complete', 'Approx. 47 hours to complete',\n",
       "       'Approx. 105 hours to complete', 'Approx. 41 hours to complete',\n",
       "       'Approx. 60 hours to complete', 'Approx. 63 hours to complete'],\n",
       "      dtype=object)"
      ]
     },
     "execution_count": 16,
     "metadata": {},
     "output_type": "execute_result"
    }
   ],
   "source": [
    "# show unique 'Duration'\n",
    "data['Duration'].unique()"
   ]
  },
  {
   "cell_type": "code",
   "execution_count": 17,
   "metadata": {},
   "outputs": [
    {
     "data": {
      "text/plain": [
       "0.33996383363471966"
      ]
     },
     "execution_count": 17,
     "metadata": {},
     "output_type": "execute_result"
    }
   ],
   "source": [
    "# extract ' at n hours a week' from the duration\n",
    "mask = data['Duration'].str.extract('.*'+'(\\d+)'+' hours a week')[0].notna()\n",
    "hours_a_week = data['Duration'].str.extract('.*'+'(\\d+)'+' hours a week')[0][mask].astype(int)\n",
    "hours_a_day = hours_a_week.mean()/7\n",
    "hours_a_day"
   ]
  },
  {
   "cell_type": "code",
   "execution_count": 18,
   "metadata": {},
   "outputs": [],
   "source": [
    "# clean duration column\n",
    "data['Duration'] = data['Duration'].str.replace('Approximately ', '')\n",
    "data['Duration'] = data['Duration'].str.replace('Approx. ', '')\n",
    "data['Duration'] = data['Duration'].str.replace('Estimated ', '')\n",
    "data['Duration'] = data['Duration'].str.replace('time', '')\n",
    "data['Duration'] = data['Duration'].str.replace(' to complete', '')\n",
    "# remove the ' at n hours a week' from the duration\n",
    "data['Duration'] = data['Duration'].str.replace(' at \\.?\\d+ hours a week', '', regex=True)"
   ]
  },
  {
   "cell_type": "code",
   "execution_count": 19,
   "metadata": {},
   "outputs": [
    {
     "data": {
      "text/plain": [
       "array(['3 months', '5 months', '7 months', '2 months', '4 months',\n",
       "       '6 months', '8 months', '11 months', '10 months', '9 months',\n",
       "       '12 months', '1 month', '13 months', '1 months',\n",
       "       'Flexible schedule', '23 hours', '14 hours', '12 hours',\n",
       "       '11 hours', '10 hours', '13 hours', '3 hours', '48 hours',\n",
       "       '9 hours', '40 hours', '37 hours', '15 hours', '7 hours',\n",
       "       '2 hours', '21 hours', '8 hours', '5 hours', '20 hours',\n",
       "       '16 hours', '19 hours', '46 hours', '32 hours', '25 hours',\n",
       "       '44 hours', '17 hours', '6 hours', '80 hours', '22 hours',\n",
       "       '18 hours', '34 hours', '27 hours', '28 hours', '70 hours',\n",
       "       '75 hours', '53 hours', '29 hours', '35 hours', '31 hours',\n",
       "       '85 hours', '30 hours', '33 hours', '24 hours', '26 hours',\n",
       "       '4 hours', '36 hours', '71 hours', '39 hours', '57 hours',\n",
       "       '49 hours', '58 hours', '38 hours', '43 hours', '42 hours',\n",
       "       '93 hours', '127 hours', '62 hours', '66 hours', '1 Hour',\n",
       "       '2 horas', '30 Minutes', '1.5 hours', '40 minutes', '1 hour',\n",
       "       '1.5 hours ', '45 minutes', '55 hours', '56 hours', '52 hours',\n",
       "       '54 hours', '47 hours', '105 hours', '41 hours', '60 hours',\n",
       "       '63 hours'], dtype=object)"
      ]
     },
     "execution_count": 19,
     "metadata": {},
     "output_type": "execute_result"
    }
   ],
   "source": [
    "# show unique 'Duration'\n",
    "data['Duration'].unique()"
   ]
  },
  {
   "cell_type": "code",
   "execution_count": 20,
   "metadata": {},
   "outputs": [],
   "source": [
    "# for every string\n",
    "mask = data['Duration'].str.extract('(\\d+)'+' months')[0].notna()\n",
    "data.loc[mask, 'Duration'] = data['Duration'].str.extract('(\\d+)'+' months')[0][mask].astype(int) * 30\n",
    "mask = data['Duration'].str.extract('(\\d+)'+' month')[0].notna()\n",
    "data.loc[mask, 'Duration'] = data['Duration'].str.extract('(\\d+)'+' month')[0][mask].astype(int) * 30\n",
    "data['Duration'] = data['Duration'].astype(str)"
   ]
  },
  {
   "cell_type": "code",
   "execution_count": 21,
   "metadata": {},
   "outputs": [
    {
     "data": {
      "text/plain": [
       "array(['90', '150', '210', '60', '120', '180', '240', '330', '300', '270',\n",
       "       '360', '30', '390', 'Flexible schedule', '23 hours', '14 hours',\n",
       "       '12 hours', '11 hours', '10 hours', '13 hours', '3 hours',\n",
       "       '48 hours', '9 hours', '40 hours', '37 hours', '15 hours',\n",
       "       '7 hours', '2 hours', '21 hours', '8 hours', '5 hours', '20 hours',\n",
       "       '16 hours', '19 hours', '46 hours', '32 hours', '25 hours',\n",
       "       '44 hours', '17 hours', '6 hours', '80 hours', '22 hours',\n",
       "       '18 hours', '34 hours', '27 hours', '28 hours', '70 hours',\n",
       "       '75 hours', '53 hours', '29 hours', '35 hours', '31 hours',\n",
       "       '85 hours', '30 hours', '33 hours', '24 hours', '26 hours',\n",
       "       '4 hours', '36 hours', '71 hours', '39 hours', '57 hours',\n",
       "       '49 hours', '58 hours', '38 hours', '43 hours', '42 hours',\n",
       "       '93 hours', '127 hours', '62 hours', '66 hours', '1 Hour',\n",
       "       '2 horas', '30 Minutes', '1.5 hours', '40 minutes', '1 hour',\n",
       "       '1.5 hours ', '45 minutes', '55 hours', '56 hours', '52 hours',\n",
       "       '54 hours', '47 hours', '105 hours', '41 hours', '60 hours',\n",
       "       '63 hours'], dtype=object)"
      ]
     },
     "execution_count": 21,
     "metadata": {},
     "output_type": "execute_result"
    }
   ],
   "source": [
    "# show unique 'Duration'\n",
    "data['Duration'].unique()"
   ]
  },
  {
   "cell_type": "code",
   "execution_count": 22,
   "metadata": {},
   "outputs": [],
   "source": [
    "data['Duration'] = data['Duration'].str.replace('(\\d*\\.?\\d+) Minutes', '1', regex=True)\n",
    "data['Duration'] = data['Duration'].str.replace('(\\d*\\.?\\d+) minutes', '1', regex=True)\n",
    "data['Duration'] = data['Duration'].str.replace('(\\d*\\.?\\d+) minutes', '1', regex=True)"
   ]
  },
  {
   "cell_type": "code",
   "execution_count": 23,
   "metadata": {},
   "outputs": [
    {
     "data": {
      "text/plain": [
       "array(['90', '150', '210', '60', '120', '180', '240', '330', '300', '270',\n",
       "       '360', '30', '390', 'Flexible schedule', '23 hours', '14 hours',\n",
       "       '12 hours', '11 hours', '10 hours', '13 hours', '3 hours',\n",
       "       '48 hours', '9 hours', '40 hours', '37 hours', '15 hours',\n",
       "       '7 hours', '2 hours', '21 hours', '8 hours', '5 hours', '20 hours',\n",
       "       '16 hours', '19 hours', '46 hours', '32 hours', '25 hours',\n",
       "       '44 hours', '17 hours', '6 hours', '80 hours', '22 hours',\n",
       "       '18 hours', '34 hours', '27 hours', '28 hours', '70 hours',\n",
       "       '75 hours', '53 hours', '29 hours', '35 hours', '31 hours',\n",
       "       '85 hours', '30 hours', '33 hours', '24 hours', '26 hours',\n",
       "       '4 hours', '36 hours', '71 hours', '39 hours', '57 hours',\n",
       "       '49 hours', '58 hours', '38 hours', '43 hours', '42 hours',\n",
       "       '93 hours', '127 hours', '62 hours', '66 hours', '1 Hour',\n",
       "       '2 horas', '1', '1.5 hours', '1 hour', '1.5 hours ', '55 hours',\n",
       "       '56 hours', '52 hours', '54 hours', '47 hours', '105 hours',\n",
       "       '41 hours', '60 hours', '63 hours'], dtype=object)"
      ]
     },
     "execution_count": 23,
     "metadata": {},
     "output_type": "execute_result"
    }
   ],
   "source": [
    "data['Duration'].unique()"
   ]
  },
  {
   "cell_type": "code",
   "execution_count": 24,
   "metadata": {},
   "outputs": [],
   "source": [
    "mask = data['Duration'].str.extract('(\\d+)'+' Hour')[0].notna()\n",
    "mask = mask | data['Duration'].str.extract('(\\d+)'+' horas')[0].notna()\n",
    "mask = mask | data['Duration'].str.extract('(\\d+)'+' hour')[0].notna()\n",
    "mask = mask | data['Duration'].str.extract('(\\d+)'+' hours')[0].notna()\n",
    "data.loc[mask, 'Duration'] = (data['Duration'].str.extract('(\\d+)'+'.*')[0][mask].astype(int) / hours_a_day).round()"
   ]
  },
  {
   "cell_type": "code",
   "execution_count": 25,
   "metadata": {},
   "outputs": [],
   "source": [
    "data['Duration'] = pd.to_numeric(data['Duration'], errors='coerce')"
   ]
  },
  {
   "cell_type": "code",
   "execution_count": 26,
   "metadata": {},
   "outputs": [
    {
     "data": {
      "text/plain": [
       "array([ 90., 150., 210.,  60., 120., 180., 240., 330., 300., 270., 360.,\n",
       "        30., 390.,  nan,  68.,  41.,  35.,  32.,  29.,  38.,   9., 141.,\n",
       "        26., 118., 109.,  44.,  21.,   6.,  62.,  24.,  15.,  59.,  47.,\n",
       "        56., 135.,  94.,  74., 129.,  50.,  18., 235.,  65.,  53., 100.,\n",
       "        79.,  82., 206., 221., 156.,  85., 103.,  91., 250.,  88.,  97.,\n",
       "        71.,  76.,  12., 106., 209., 115., 168., 144., 171., 112., 126.,\n",
       "       124., 274., 374., 182., 194.,   3.,   1., 162., 165., 153., 159.,\n",
       "       138., 309., 121., 176., 185.])"
      ]
     },
     "execution_count": 26,
     "metadata": {},
     "output_type": "execute_result"
    }
   ],
   "source": [
    "data['Duration'].unique()"
   ]
  },
  {
   "cell_type": "code",
   "execution_count": 27,
   "metadata": {},
   "outputs": [
    {
     "data": {
      "text/html": [
       "<div>\n",
       "<style scoped>\n",
       "    .dataframe tbody tr th:only-of-type {\n",
       "        vertical-align: middle;\n",
       "    }\n",
       "\n",
       "    .dataframe tbody tr th {\n",
       "        vertical-align: top;\n",
       "    }\n",
       "\n",
       "    .dataframe thead th {\n",
       "        text-align: right;\n",
       "    }\n",
       "</style>\n",
       "<table border=\"1\" class=\"dataframe\">\n",
       "  <thead>\n",
       "    <tr style=\"text-align: right;\">\n",
       "      <th></th>\n",
       "      <th>Title</th>\n",
       "      <th>Short Intro</th>\n",
       "      <th>Category</th>\n",
       "      <th>Sub-Category</th>\n",
       "      <th>Course Type</th>\n",
       "      <th>Language</th>\n",
       "      <th>Skills</th>\n",
       "      <th>Instructors</th>\n",
       "      <th>Rating</th>\n",
       "      <th>Number of viewers</th>\n",
       "      <th>Duration</th>\n",
       "    </tr>\n",
       "  </thead>\n",
       "  <tbody>\n",
       "    <tr>\n",
       "      <th>0</th>\n",
       "      <td>Machine Learning Specialization</td>\n",
       "      <td>#BreakIntoAI with Machine Learning Specializat...</td>\n",
       "      <td>Data Science</td>\n",
       "      <td>Machine Learning</td>\n",
       "      <td>Specialization</td>\n",
       "      <td>English</td>\n",
       "      <td>Decision Trees, Artificial Neural Network, Log...</td>\n",
       "      <td>Andrew Ng ,Eddy Shyu ,Aarti Bagul ,Geoff Ladwig ,</td>\n",
       "      <td>4.9</td>\n",
       "      <td>NaN</td>\n",
       "      <td>90.0</td>\n",
       "    </tr>\n",
       "    <tr>\n",
       "      <th>1</th>\n",
       "      <td>Introduction to Data Science Specialization</td>\n",
       "      <td>Launch your career in data science. Gain found...</td>\n",
       "      <td>Data Science</td>\n",
       "      <td>Data Analysis</td>\n",
       "      <td>Specialization</td>\n",
       "      <td>English</td>\n",
       "      <td>Data Science, Relational Database Management S...</td>\n",
       "      <td>Rav Ahuja ,Alex Aklson ,Aije Egwaikhide ,Svetl...</td>\n",
       "      <td>4.7</td>\n",
       "      <td>NaN</td>\n",
       "      <td>150.0</td>\n",
       "    </tr>\n",
       "    <tr>\n",
       "      <th>2</th>\n",
       "      <td>Data Science Fundamentals with Python and SQL ...</td>\n",
       "      <td>Build the Foundation for your Data Science car...</td>\n",
       "      <td>Data Science</td>\n",
       "      <td>Data Analysis</td>\n",
       "      <td>Specialization</td>\n",
       "      <td>English</td>\n",
       "      <td>Data Science, Github, Python Programming, Jupy...</td>\n",
       "      <td>Aije Egwaikhide ,Svetlana Levitan ,Romeo Kienz...</td>\n",
       "      <td>4.6</td>\n",
       "      <td>NaN</td>\n",
       "      <td>210.0</td>\n",
       "    </tr>\n",
       "    <tr>\n",
       "      <th>3</th>\n",
       "      <td>Key Technologies for Business Specialization</td>\n",
       "      <td>Get Ahead with Key Business Technologies. Gain...</td>\n",
       "      <td>Business</td>\n",
       "      <td>Business Essentials</td>\n",
       "      <td>Specialization</td>\n",
       "      <td>English</td>\n",
       "      <td>Data Science, Artificial Intelligence (AI), Bu...</td>\n",
       "      <td>Rav Ahuja ,Alex Aklson ,</td>\n",
       "      <td>4.7</td>\n",
       "      <td>NaN</td>\n",
       "      <td>90.0</td>\n",
       "    </tr>\n",
       "    <tr>\n",
       "      <th>4</th>\n",
       "      <td>Deep Learning Specialization</td>\n",
       "      <td>Become a Machine Learning expert. Master the f...</td>\n",
       "      <td>Data Science</td>\n",
       "      <td>Machine Learning</td>\n",
       "      <td>Specialization</td>\n",
       "      <td>English</td>\n",
       "      <td>Artificial Neural Network, Convolutional Neura...</td>\n",
       "      <td>Andrew Ng ,Kian Katanforoosh ,Younes Bensouda ...</td>\n",
       "      <td>4.9</td>\n",
       "      <td>NaN</td>\n",
       "      <td>150.0</td>\n",
       "    </tr>\n",
       "  </tbody>\n",
       "</table>\n",
       "</div>"
      ],
      "text/plain": [
       "                                               Title  \\\n",
       "0                    Machine Learning Specialization   \n",
       "1        Introduction to Data Science Specialization   \n",
       "2  Data Science Fundamentals with Python and SQL ...   \n",
       "3       Key Technologies for Business Specialization   \n",
       "4                       Deep Learning Specialization   \n",
       "\n",
       "                                         Short Intro      Category  \\\n",
       "0  #BreakIntoAI with Machine Learning Specializat...  Data Science   \n",
       "1  Launch your career in data science. Gain found...  Data Science   \n",
       "2  Build the Foundation for your Data Science car...  Data Science   \n",
       "3  Get Ahead with Key Business Technologies. Gain...      Business   \n",
       "4  Become a Machine Learning expert. Master the f...  Data Science   \n",
       "\n",
       "          Sub-Category     Course Type Language  \\\n",
       "0     Machine Learning  Specialization  English   \n",
       "1        Data Analysis  Specialization  English   \n",
       "2        Data Analysis  Specialization  English   \n",
       "3  Business Essentials  Specialization  English   \n",
       "4     Machine Learning  Specialization  English   \n",
       "\n",
       "                                              Skills  \\\n",
       "0  Decision Trees, Artificial Neural Network, Log...   \n",
       "1  Data Science, Relational Database Management S...   \n",
       "2  Data Science, Github, Python Programming, Jupy...   \n",
       "3  Data Science, Artificial Intelligence (AI), Bu...   \n",
       "4  Artificial Neural Network, Convolutional Neura...   \n",
       "\n",
       "                                         Instructors  Rating  \\\n",
       "0  Andrew Ng ,Eddy Shyu ,Aarti Bagul ,Geoff Ladwig ,     4.9   \n",
       "1  Rav Ahuja ,Alex Aklson ,Aije Egwaikhide ,Svetl...     4.7   \n",
       "2  Aije Egwaikhide ,Svetlana Levitan ,Romeo Kienz...     4.6   \n",
       "3                           Rav Ahuja ,Alex Aklson ,     4.7   \n",
       "4  Andrew Ng ,Kian Katanforoosh ,Younes Bensouda ...     4.9   \n",
       "\n",
       "   Number of viewers  Duration  \n",
       "0                NaN      90.0  \n",
       "1                NaN     150.0  \n",
       "2                NaN     210.0  \n",
       "3                NaN      90.0  \n",
       "4                NaN     150.0  "
      ]
     },
     "execution_count": 27,
     "metadata": {},
     "output_type": "execute_result"
    }
   ],
   "source": [
    "data.head()"
   ]
  },
  {
   "cell_type": "code",
   "execution_count": 28,
   "metadata": {},
   "outputs": [
    {
     "name": "stdout",
     "output_type": "stream",
     "text": [
      "<class 'pandas.core.frame.DataFrame'>\n",
      "Index: 2819 entries, 0 to 2818\n",
      "Data columns (total 11 columns):\n",
      " #   Column             Non-Null Count  Dtype  \n",
      "---  ------             --------------  -----  \n",
      " 0   Title              2819 non-null   object \n",
      " 1   Short Intro        2775 non-null   object \n",
      " 2   Category           2819 non-null   object \n",
      " 3   Sub-Category       2819 non-null   object \n",
      " 4   Course Type        2819 non-null   object \n",
      " 5   Language           2819 non-null   object \n",
      " 6   Skills             1998 non-null   object \n",
      " 7   Instructors        2808 non-null   object \n",
      " 8   Rating             2695 non-null   float64\n",
      " 9   Number of viewers  1547 non-null   float64\n",
      " 10  Duration           2817 non-null   float64\n",
      "dtypes: float64(3), object(8)\n",
      "memory usage: 264.3+ KB\n"
     ]
    }
   ],
   "source": [
    "data.info()"
   ]
  },
  {
   "cell_type": "code",
   "execution_count": 29,
   "metadata": {},
   "outputs": [],
   "source": [
    "# save the cleaned data\n",
    "data.to_csv('Coursera_Cleaned_v1.csv', index=False)"
   ]
  }
 ],
 "metadata": {
  "kernelspec": {
   "display_name": "base",
   "language": "python",
   "name": "python3"
  },
  "language_info": {
   "codemirror_mode": {
    "name": "ipython",
    "version": 3
   },
   "file_extension": ".py",
   "mimetype": "text/x-python",
   "name": "python",
   "nbconvert_exporter": "python",
   "pygments_lexer": "ipython3",
   "version": "3.11.5"
  }
 },
 "nbformat": 4,
 "nbformat_minor": 2
}
